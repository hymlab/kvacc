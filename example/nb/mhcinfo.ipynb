{
 "cells": [
  {
   "cell_type": "markdown",
   "metadata": {},
   "source": [
    "# General information on MHCs"
   ]
  },
  {
   "cell_type": "markdown",
   "metadata": {},
   "source": [
    "## Nomenclature of MHC alleles"
   ]
  },
  {
   "cell_type": "markdown",
   "metadata": {},
   "source": [
    "### Human Leukocyte Antigen(HLA)\n",
    "<img src='res/hla_nomen1.png' width='70%' align='top'>\n",
    "http://hla.alleles.org/nomenclature/naming.html\n",
    "\n",
    "- HLA class I\n",
    "    - HLA-A\\*01:01:01N\n",
    "    - HLA-A\\*02:01\n",
    "- HLA class II\n",
    "    - HLA-DRB1\\*01:01\n",
    "    - HLA-DQA1\\*05:01/DQB1\\*03:01\n",
    "    - HLA-DPA1\\*01:03/DPB1\\*04:01"
   ]
  },
  {
   "cell_type": "markdown",
   "metadata": {},
   "source": [
    "### Non-human MHCs\n",
    " <img src='res/mhc_nomen.png' width='60%' align='top'>\n",
    "\n",
    "{Robinson:2014ca}, {Maccari:2018jv}\n"
   ]
  },
  {
   "cell_type": "markdown",
   "metadata": {},
   "source": [
    "### Mouse MHC alleles\n",
    "<img src='res/mouse_mhc_allele.png'>\n",
    "* In IMGT gene names, the \"H-2\" prefix [1] is replaced by the \"H2-\" prefix according to the MGI Nomenclature Committee and by analogy with the \"HLA-\" prefix."
   ]
  },
  {
   "cell_type": "markdown",
   "metadata": {},
   "source": [
    "- H2 class I(mouse)\n",
    "    - H2-Db, H2-Kb, H2-Kd\n",
    "- H2 class II(mouse)\n",
    "    - H2-IAb, H2-IAd"
   ]
  },
  {
   "cell_type": "markdown",
   "metadata": {},
   "source": [
    "### MHC allele name\n",
    "- Class for handling MHC allele naming rule\n",
    "- Note: this is covering only non-synonymous mutations(i.e., different proteins) "
   ]
  },
  {
   "cell_type": "code",
   "execution_count": 6,
   "metadata": {
    "scrolled": true
   },
   "outputs": [
    {
     "name": "stderr",
     "output_type": "stream",
     "text": [
      "test_format (__main__.MHCAlleleNameTest) ... ok\n",
      "test_parse (__main__.MHCAlleleNameTest) ... ok\n",
      "test_parse_invalid (__main__.MHCAlleleNameTest) ... ok\n",
      "test_std_name (__main__.MHCAlleleNameTest) ... ok\n",
      "\n",
      "----------------------------------------------------------------------\n",
      "Ran 4 tests in 0.006s\n",
      "\n",
      "OK\n"
     ]
    },
    {
     "data": {
      "text/plain": [
       "<unittest.runner.TextTestResult run=4 errors=0 failures=0>"
      ]
     },
     "execution_count": 6,
     "metadata": {},
     "output_type": "execute_result"
    }
   ],
   "source": [
    "%run 'commons.ipynb'\n",
    "\n",
    "-\n",
    "        \n",
    "############\n",
    "# suite = TestSuite()\n",
    "# suite.addTests(TestLoader().loadTestsFromTestCase(MHCAlleleNameTest))\n",
    "# TextTestRunner(verbosity=3).run(suite)"
   ]
  },
  {
   "cell_type": "markdown",
   "metadata": {},
   "source": [
    "## HLA supertypes\n",
    "### Sidney et al{Sidney:2008bn}\n",
    "- <span class=\"mark\">Background</span>: Class I major histocompatibility complex (MHC) molecules bind, and present to T cells, short peptides derived from intracellular processing of proteins. The peptide repertoire of a specific molecule is to a large extent determined by the molecular structure accommodating so- called main anchor positions of the presented peptide. These receptors are extremely polymorphic, and much of the polymorphism influences the peptide-binding repertoire. However, despite this polymorphism, class I molecules can be clustered into sets of molecules that bind largely overlapping peptide repertoires. Almost a decade ago we introduced this concept of clustering human leukocyte antigen (HLA) alleles and defined nine different groups, denominated as supertypes, on the basis of their main anchor specificity. The utility of this original supertype classification, as well several other subsequent arrangements derived by others, has been demonstrated in a large number of epitope identification studies.\n",
    "- <span class=\"mark\">Results</span>: Following our original approach, in the present report we provide an updated classification of HLA-A and -B class I alleles into supertypes. The present analysis incorporates the large amount of class I MHC binding data and sequence information that has become available in the last decade. As a result, over 80% of the 945 different HLA-A and -B alleles examined to date can be assigned to one of the original nine supertypes. A few alleles are expected to be associated with repertoires that overlap multiple supertypes. Interestingly, the current analysis did not identify any additional supertype specificities.\n",
    "- <span class=\"mark\">Conclusion</span>: As a result of this updated analysis, HLA supertype associations have been defined for over 750 different HLA-A and -B alleles. This information is expected to facilitate epitope identification and vaccine design studies, as well as investigations into disease association and correlates of immunity. In addition, the approach utilized has been made more transparent, allowing others to utilize the classification approach going forward."
   ]
  },
  {
   "cell_type": "code",
   "execution_count": 3,
   "metadata": {
    "collapsed": true
   },
   "outputs": [],
   "source": [
    "import pandas as pd\n",
    "\n",
    "class HLASupertype(object):\n",
    "    # class variable\n",
    "    _allele_hla_st_map = None\n",
    "    \n",
    "    @classmethod\n",
    "    def load_hla_supertype_map(cls, fn='datasets/HLA-supertype_revised.csv'):\n",
    "        print('Load HLASupertype._allele_hla_st_map...')\n",
    "        hla_st_tab = pd.read_csv('datasets/HLA-supertype_revised.csv', na_values='Unclassified')\n",
    "        hla_st_tab.allele = hla_st_tab.allele.map(lambda s: 'HLA-%s:%s' % (s[:4], s[4:]))\n",
    "        hla_st_tab.index = hla_st_tab.allele\n",
    "        cls._allele_hla_st_map = hla_st_tab.supertype.to_dict()\n",
    "    \n",
    "    @classmethod\n",
    "    def supertype(cls, allele):\n",
    "        if cls._allele_hla_st_map is None:\n",
    "            cls.load_hla_supertype_map()\n",
    "        return cls._allele_hla_st_map[allele]\n",
    "\n",
    "    @classmethod\n",
    "    def has_supertype(cls, allele):\n",
    "        if cls._allele_hla_st_map is None:\n",
    "            cls.load_hla_supertype_map()\n",
    "        return allele in cls._allele_hla_st_map\n",
    "\n",
    "#####################################\n",
    "from unittest import *\n",
    "\n",
    "class HLASupertypeTest(TestCase):    \n",
    "    def test_supertype(self):\n",
    "        self.assertEquals('A01', HLASupertype.supertype('HLA-A*01:01'))\n",
    "        self.assertEquals('A02', HLASupertype.supertype('HLA-A*02:01'))\n",
    "        self.assertEquals('A03', HLASupertype.supertype('HLA-A*03:01'))\n",
    "        self.assertEquals('B07', HLASupertype.supertype('HLA-B*07:02'))\n",
    "        self.assertEquals('B08', HLASupertype.supertype('HLA-B*08:01'))\n",
    "        print(HLASupertype.supertype('HLA-A*01:13'))\n",
    "        self.assertTrue(pd.isnull(HLASupertype.supertype('HLA-A*01:13')))\n",
    "        self.assertTrue(pd.isnull(HLASupertype.supertype('HLA-B*07:13')))\n",
    "\n",
    "###########\n",
    "# suite = TestSuite()\n",
    "# suite.addTests(TestLoader().loadTestsFromTestCase(HLASupertypeTest))\n",
    "# TextTestRunner(verbosity=3).run(suite)"
   ]
  }
 ],
 "metadata": {
  "kernelspec": {
   "display_name": "Python 3",
   "language": "python",
   "name": "python3"
  },
  "language_info": {
   "codemirror_mode": {
    "name": "ipython",
    "version": 3
   },
   "file_extension": ".py",
   "mimetype": "text/x-python",
   "name": "python",
   "nbconvert_exporter": "python",
   "pygments_lexer": "ipython3",
   "version": "3.6.3"
  },
  "latex_envs": {
   "bibliofile": "biblio.bib",
   "cite_by": "apalike",
   "current_citInitial": 1,
   "eqLabelWithNumbers": true,
   "eqNumInitial": 0
  },
  "nav_menu": {},
  "toc": {
   "base_numbering": 1,
   "nav_menu": {
    "height": "48px",
    "width": "252px"
   },
   "number_sections": true,
   "sideBar": true,
   "skip_h1_title": false,
   "title_cell": "Table of Contents",
   "title_sidebar": "Contents",
   "toc_cell": false,
   "toc_position": {
    "height": "1144px",
    "left": "0px",
    "right": "20px",
    "top": "107px",
    "width": "212px"
   },
   "toc_section_display": "block",
   "toc_window_display": true
  },
  "varInspector": {
   "cols": {
    "lenName": 16,
    "lenType": 16,
    "lenVar": 40
   },
   "kernels_config": {
    "python": {
     "delete_cmd_postfix": "",
     "delete_cmd_prefix": "del ",
     "library": "var_list.py",
     "varRefreshCmd": "print(var_dic_list())"
    },
    "r": {
     "delete_cmd_postfix": ") ",
     "delete_cmd_prefix": "rm(",
     "library": "var_list.r",
     "varRefreshCmd": "cat(var_dic_list()) "
    }
   },
   "position": {
    "height": "533px",
    "left": "0px",
    "right": "20px",
    "top": "453px",
    "width": "172px"
   },
   "types_to_exclude": [
    "module",
    "function",
    "builtin_function_or_method",
    "instance",
    "_Feature"
   ],
   "window_display": true
  }
 },
 "nbformat": 4,
 "nbformat_minor": 1
}
